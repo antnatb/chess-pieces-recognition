{
 "cells": [
  {
   "cell_type": "markdown",
   "metadata": {},
   "source": [
    "Importing libraries"
   ]
  },
  {
   "cell_type": "code",
   "execution_count": 3,
   "metadata": {},
   "outputs": [],
   "source": [
    "import pandas as pd\n",
    "import cv2\n",
    "import matplotlib.pyplot as plt\n",
    "import numpy as np"
   ]
  },
  {
   "cell_type": "markdown",
   "metadata": {},
   "source": [
    "attempt: detecting Black Pieces using RGB thresholding\n"
   ]
  },
  {
   "cell_type": "code",
   "execution_count": 6,
   "metadata": {},
   "outputs": [
    {
     "name": "stdout",
     "output_type": "stream",
     "text": []
    }
   ],
   "source": [
    "\n",
    "# load image\n",
    "img = cv2.imread(\"data\\\\all\\\\IMG_0299_JPG.rf.7d92f1ba0929b7fc5e77848b80148fc6.jpg\")\n",
    "\n",
    "# # Apply Gaussian blur\n",
    "# blurred_img = cv2.GaussianBlur(img, (5, 5), 0)\n",
    "\n",
    "\n",
    "# Apply thresholding\n",
    "threshold = 40\n",
    "thresholded_img = cv2.inRange(img, (0, 0, 0), (threshold, threshold, threshold))\n",
    "\n",
    "\n",
    "# Apply opening\n",
    "kernel = np.ones((5, 5), np.uint8)\n",
    "opened_img = cv2.morphologyEx(thresholded_img, cv2.MORPH_OPEN, kernel)\n",
    "\n",
    "# Apply closing\n",
    "kernel = np.ones((7, 7), np.uint8)\n",
    "closed_img = cv2.morphologyEx(opened_img, cv2.MORPH_CLOSE, kernel)\n",
    "\n",
    "# Show final processed image\n",
    "plt.imshow(cv2.cvtColor(closed_img, cv2.COLOR_BGR2RGB))\n",
    "plt.title(\"Processed Image\")\n",
    "plt.axis('off')\n",
    "plt.show()\n"
   ]
  },
  {
   "cell_type": "code",
   "execution_count": 17,
   "metadata": {},
   "outputs": [
    {
     "name": "stdout",
     "output_type": "stream",
     "text": []
    }
   ],
   "source": [
    "# Find contours\n",
    "contours, _ = cv2.findContours(closed_img, cv2.RETR_EXTERNAL, cv2.CHAIN_APPROX_SIMPLE)\n",
    "\n",
    "# Filter out small noise\n",
    "min_area = 2000  # Adjust based on your image\n",
    "bounding_boxes = []\n",
    "for contour in contours:\n",
    "    if cv2.contourArea(contour) > min_area:\n",
    "        x, y, w, h = cv2.boundingRect(contour)\n",
    "        bounding_boxes.append((x, y, w, h))\n",
    "\n",
    "# Draw bounding boxes on original image \n",
    "img_with_bounding_boxes = img.copy()\n",
    "for x, y, w, h in bounding_boxes:\n",
    "    cv2.rectangle(img_with_bounding_boxes, (x - 15, y - 15), (x + w + 15, y + h + 15), (0, 255, 0), 2)\n",
    "\n",
    "# Show image with bounding boxes\n",
    "plt.imshow(cv2.cvtColor(img_with_bounding_boxes, cv2.COLOR_BGR2RGB))\n",
    "plt.title(\"Image with Bounding Boxes\")\n",
    "plt.axis('off')\n",
    "plt.show()"
   ]
  },
  {
   "cell_type": "markdown",
   "metadata": {},
   "source": [
    "Attempt: trying to understand the rgb values of white pieces\n"
   ]
  },
  {
   "cell_type": "code",
   "execution_count": 4,
   "metadata": {},
   "outputs": [
    {
     "name": "stdout",
     "output_type": "stream",
     "text": []
    },
    {
     "name": "stdout",
     "output_type": "stream",
     "text": []
    }
   ],
   "source": [
    "img_path = 'data\\\\train\\\\0b4ba28f0c759a11750a6430649b52e3_jpg.rf.c840c64b42f1edd63fd63024fed5ec8b.jpg'\n",
    "img = cv2.imread(img_path)\n",
    "\n",
    "\n",
    "# Split the channels\n",
    "r, g, b = cv2.split(cv2.cvtColor(img, cv2.COLOR_BGR2RGB))\n",
    "\n",
    "# Set up the histogram properties\n",
    "colors = ('red', 'green', 'blue')\n",
    "channels = [r, g, b]\n",
    "\n",
    "# Plot histograms\n",
    "plt.figure(figsize=(10, 5))\n",
    "for i, (channel, color) in enumerate(zip(channels, colors)):\n",
    "    hist = cv2.calcHist([channel], [0], None, [256], [0, 256])\n",
    "    plt.plot(hist, color=color, label=f'{color.upper()} channel')\n",
    "\n",
    "plt.title(\"RGB Histogram\")\n",
    "plt.xlabel(\"Pixel Intensity\")\n",
    "plt.ylabel(\"Frequency\")\n",
    "plt.legend()\n",
    "plt.show()\n",
    "\n",
    "img_path = 'test.jpg'\n",
    "img = cv2.imread(img_path)\n",
    "\n",
    "\n",
    "# Split the channels\n",
    "r, g, b = cv2.split(cv2.cvtColor(img, cv2.COLOR_BGR2RGB))\n",
    "\n",
    "# Set up the histogram properties\n",
    "colors = ('red', 'green', 'blue')\n",
    "channels = [r, g, b]\n",
    "\n",
    "# Plot histograms\n",
    "plt.figure(figsize=(10, 5))\n",
    "for i, (channel, color) in enumerate(zip(channels, colors)):\n",
    "    hist = cv2.calcHist([channel], [0], None, [256], [0, 256])\n",
    "    plt.plot(hist, color=color, label=f'{color.upper()} channel')\n",
    "\n",
    "plt.title(\"RGB Histogram\")\n",
    "plt.xlabel(\"Pixel Intensity\")\n",
    "plt.ylabel(\"Frequency\")\n",
    "plt.legend()\n",
    "plt.show()\n",
    "\n",
    "\n"
   ]
  },
  {
   "cell_type": "markdown",
   "metadata": {},
   "source": [
    "attempt: detect white pieces using RGB thresholding"
   ]
  },
  {
   "cell_type": "code",
   "execution_count": 5,
   "metadata": {},
   "outputs": [
    {
     "name": "stdout",
     "output_type": "stream",
     "text": []
    }
   ],
   "source": [
    "img_path = 'data\\\\train\\\\IMG_0291_JPG.rf.a72d476f25b25f6ef3f768e5876c2a55.jpg' \n",
    "img = cv2.imread(img_path)\n",
    "\n",
    "# Define the thresholds for each channel\n",
    "lower_bound = np.array([75, 70, 100])\n",
    "upper_bound = np.array([180, 200, 200])\n",
    "\n",
    "# Apply the threshold\n",
    "thresholded_img = cv2.inRange(img, lower_bound, upper_bound)\n",
    "\n",
    "# Opening\n",
    "kernel = np.ones((3, 3), np.uint8)\n",
    "thresholded_img = cv2.morphologyEx(thresholded_img, cv2.MORPH_OPEN, kernel)\n",
    "\n",
    "# Show the original and thresholded image\n",
    "plt.subplot(1, 2, 1)\n",
    "plt.imshow(cv2.cvtColor(img, cv2.COLOR_BGR2RGB))\n",
    "plt.title(\"Original Image\")\n",
    "plt.axis('off')\n",
    "plt.subplot(1, 2, 2)\n",
    "plt.imshow(thresholded_img, cmap='gray')\n",
    "plt.title(\"Thresholded Image\")\n",
    "plt.axis('off')\n",
    "plt.show()\n",
    "\n"
   ]
  },
  {
   "cell_type": "markdown",
   "metadata": {},
   "source": [
    "attempt: HSV thresholding\n"
   ]
  },
  {
   "cell_type": "code",
   "execution_count": 58,
   "metadata": {},
   "outputs": [
    {
     "name": "stdout",
     "output_type": "stream",
     "text": []
    },
    {
     "name": "stdout",
     "output_type": "stream",
     "text": []
    }
   ],
   "source": [
    "# Load image\n",
    "img = cv2.imread(\"data\\\\all\\\\IMG_0299_JPG.rf.7d92f1ba0929b7fc5e77848b80148fc6.jpg\")\n",
    "plt.imshow(cv2.cvtColor(img, cv2.COLOR_BGR2RGB))\n",
    "\n",
    "# Convert to HSV color space\n",
    "hsv = cv2.cvtColor(img, cv2.COLOR_BGR2HSV)\n",
    "\n",
    "h, s, v = cv2.split(hsv)\n",
    "channels = [h, s, v]\n",
    "\n",
    "h_hist = cv2.calcHist([hsv], [0], None, [180], [0, 180])\n",
    "s_hist = cv2.calcHist([hsv], [1], None, [256], [0, 256])\n",
    "v_hist = cv2.calcHist([hsv], [2], None, [256], [0, 256])\n",
    "\n",
    "# Plot histograms\n",
    "plt.figure(figsize=(10, 5))\n",
    "\n",
    "plt.subplot(1, 3, 1)\n",
    "plt.plot(h_hist, color='red')\n",
    "plt.title(\"Hue Histogram\")\n",
    "plt.xlabel(\"Hue\")\n",
    "plt.ylabel(\"Frequency\")\n",
    "\n",
    "plt.subplot(1, 3, 2)\n",
    "plt.plot(s_hist, color='green')\n",
    "plt.title(\"Saturation Histogram\")\n",
    "plt.xlabel(\"Saturation\")\n",
    "plt.ylabel(\"Frequency\")\n",
    "\n",
    "plt.subplot(1, 3, 3)\n",
    "plt.plot(v_hist, color='blue')\n",
    "plt.title(\"Value Histogram\")\n",
    "plt.xlabel(\"Value\")\n",
    "plt.ylabel(\"Frequency\")\n",
    "\n",
    "plt.tight_layout()\n",
    "plt.show()\n",
    "\n"
   ]
  },
  {
   "cell_type": "markdown",
   "metadata": {},
   "source": [
    "hsv thresholding for white pieces"
   ]
  },
  {
   "cell_type": "code",
   "execution_count": 59,
   "metadata": {},
   "outputs": [
    {
     "name": "stdout",
     "output_type": "stream",
     "text": []
    },
    {
     "name": "stdout",
     "output_type": "stream",
     "text": []
    }
   ],
   "source": [
    "# Define the lower and upper bounds \n",
    "lower = np.array([20, 60, 0])\n",
    "upper = np.array([50, 255, 255])\n",
    "\n",
    "# Create a mask for the specified Hue range\n",
    "mask = cv2.inRange(hsv, lower, upper)\n",
    "\n",
    "# Display mask\n",
    "plt.imshow(mask, cmap='gray')\n",
    "plt.title(\"Mask\")\n",
    "plt.axis('off')\n",
    "plt.show()\n",
    "\n",
    "# Apply the mask to the original image\n",
    "result_img = cv2.bitwise_and(img, img, mask=mask)\n",
    "\n",
    "# opening with 5x3 kernel\n",
    "# kernel = np.ones((5, 5), np.uint8)\n",
    "# result_img = cv2.morphologyEx(result_img, cv2.MORPH_OPEN, kernel)\n",
    "\n",
    "# Show the processed image\n",
    "plt.imshow(cv2.cvtColor(result_img, cv2.COLOR_BGR2RGB))\n",
    "plt.title(\"Processed Image\")\n",
    "plt.axis('off')\n",
    "plt.show()\n"
   ]
  },
  {
   "cell_type": "markdown",
   "metadata": {},
   "source": [
    "hsv thresholding for black pieces"
   ]
  },
  {
   "cell_type": "code",
   "execution_count": 61,
   "metadata": {},
   "outputs": [
    {
     "name": "stdout",
     "output_type": "stream",
     "text": []
    }
   ],
   "source": [
    "# Define the lower and upper bounds \n",
    "lower = np.array([35, 0, 0])\n",
    "upper = np.array([180, 80, 80])\n",
    "\n",
    "# Create a mask for the specified Hue range\n",
    "mask = cv2.inRange(hsv, lower, upper)\n",
    "\n",
    "# Opening\n",
    "kernel = np.ones((3, 3), np.uint8)\n",
    "mask = cv2.morphologyEx(mask, cv2.MORPH_OPEN, kernel)\n",
    "\n",
    "\n",
    "# Display mask\n",
    "plt.imshow(mask, cmap='gray')\n",
    "plt.title(\"Mask\")\n",
    "plt.axis('off')\n",
    "plt.show()\n",
    "\n"
   ]
  },
  {
   "cell_type": "markdown",
   "metadata": {},
   "source": [
    "test: applying bounding box\n",
    "\n"
   ]
  },
  {
   "cell_type": "code",
   "execution_count": null,
   "metadata": {},
   "outputs": [
    {
     "name": "stdout",
     "output_type": "stream",
     "text": []
    },
    {
     "name": "stdout",
     "output_type": "stream",
     "text": []
    }
   ],
   "source": [
    "\n",
    "# Assuming 'mask' contains your binary image (the one shown)\n",
    "contours, _ = cv2.findContours(mask, cv2.RETR_EXTERNAL, cv2.CHAIN_APPROX_SIMPLE)\n",
    "\n",
    "# Filter contours by area to get only the chess pieces\n",
    "min_area = 1000  # Adjust this value to filter out the small noise spots\n",
    "chess_pieces = []\n",
    "bounding_boxes = []\n",
    "\n",
    "# Visualization image\n",
    "visualization = cv2.cvtColor(mask, cv2.COLOR_GRAY2BGR)  # Convert to BGR for colored boxes\n",
    "\n",
    "for contour in contours:\n",
    "    area = cv2.contourArea(contour)\n",
    "    if area < min_area:\n",
    "        continue\n",
    "        \n",
    "    # Get bounding rectangle\n",
    "    x, y, w, h = cv2.boundingRect(contour)\n",
    "    bounding_boxes.append((x, y, w, h))\n",
    "    \n",
    "    # Crop the piece from the original mask (or from your color image if available)\n",
    "    piece = mask[y:y+h, x:x+w]\n",
    "    chess_pieces.append(piece)\n",
    "    \n",
    "    # Draw rectangle on visualization image\n",
    "    cv2.rectangle(visualization, (x, y), (x+w, y+h), (0, 255, 0), 2)\n",
    "\n",
    "print(f\"Found {len(chess_pieces)} chess pieces\")\n",
    "\n",
    "# Display results\n",
    "plt.imshow(cv2.cvtColor(visualization, cv2.COLOR_BGR2RGB))\n",
    "plt.title(\"Detected Chess Pieces\")\n",
    "plt.axis('off')\n",
    "plt.show()"
   ]
  }
 ],
 "metadata": {
  "kernelspec": {
   "display_name": "venv",
   "language": "python",
   "name": "python3"
  },
  "language_info": {
   "codemirror_mode": {
    "name": "ipython",
    "version": 3
   },
   "file_extension": ".py",
   "mimetype": "text/x-python",
   "name": "python",
   "nbconvert_exporter": "python",
   "pygments_lexer": "ipython3",
   "version": "3.12.9"
  }
 },
 "nbformat": 4,
 "nbformat_minor": 2
}
